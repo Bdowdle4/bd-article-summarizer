{
 "cells": [
  {
   "cell_type": "markdown",
   "metadata": {},
   "source": [
    "# Web Mining and Applied NLP (44-620)\n",
    "\n",
    "## Final Project: Article Summarizer\n",
    "\n",
    "### Student Name: Brittany Dowdle\n",
    "\n",
    "### **[Clickable link to GitHub Repo](https://github.com/Bdowdle4/bd-article-summarizer)**\n",
    "\n",
    "Perform the tasks described in the Markdown cells below.  When you have completed the assignment make sure your code cells have all been run (and have output beneath them) and ensure you have committed and pushed ALL of your changes to your assignment repository.\n",
    "\n",
    "You should bring in code from previous assignments to help you answer the questions below.\n",
    "\n",
    "Every question that requires you to write code will have a code cell underneath it; you may either write your entire solution in that cell or write it in a python file (`.py`), then import and run the appropriate code to answer the question.\n",
    "\n",
    "***"
   ]
  },
  {
   "cell_type": "markdown",
   "metadata": {},
   "source": [
    "### Packages Required"
   ]
  },
  {
   "cell_type": "code",
   "execution_count": 1,
   "metadata": {},
   "outputs": [
    {
     "name": "stdout",
     "output_type": "stream",
     "text": [
      "All prereqs installed.\n"
     ]
    }
   ],
   "source": [
    "import json\n",
    "import pickle\n",
    "\n",
    "import requests\n",
    "import spacy\n",
    "from spacytextblob.spacytextblob import SpacyTextBlob\n",
    "\n",
    "from collections import Counter\n",
    "from bs4 import BeautifulSoup\n",
    "import matplotlib.pyplot as plt\n",
    "\n",
    "from wordcloud import WordCloud\n",
    "\n",
    "print('All prereqs installed.')"
   ]
  },
  {
   "cell_type": "markdown",
   "metadata": {},
   "source": [
    "***\n",
    "### Question 1"
   ]
  },
  {
   "cell_type": "markdown",
   "metadata": {},
   "source": [
    "Find on the internet an article or blog post about a topic that interests you and you are able to get the text for using the technologies we have applied in the course.  Get the html for the article and store it in a file (which you must submit with your project)"
   ]
  },
  {
   "cell_type": "code",
   "execution_count": 2,
   "metadata": {},
   "outputs": [
    {
     "name": "stdout",
     "output_type": "stream",
     "text": [
      "HTML content saved to 'article.pkl'.\n",
      "HTML content also saved to 'article.html'.\n"
     ]
    }
   ],
   "source": [
    "import requests\n",
    "import pickle\n",
    "\n",
    "# URL of the archived article\n",
    "url = \"https://www.gooverseas.com/blog/should-you-move-abroad\"\n",
    "\n",
    "try:\n",
    "    # Fetch the HTML content\n",
    "    response = requests.get(url)\n",
    "    response.raise_for_status()  # Raise an exception for HTTP errors\n",
    "    html_content = response.text\n",
    "\n",
    "    # Save the HTML content to a .pkl file\n",
    "    with open(\"article.pkl\", \"wb\") as file:\n",
    "        pickle.dump(html_content, file)\n",
    "\n",
    "    print(\"HTML content saved to 'article.pkl'.\")\n",
    "\n",
    "    # (Optional) Save the content to a .html file for easier viewing\n",
    "    with open(\"article.html\", \"w\", encoding=\"utf-8\") as html_file:\n",
    "        html_file.write(html_content)\n",
    "\n",
    "    print(\"HTML content also saved to 'article.html'.\")\n",
    "except Exception as e:\n",
    "    print(f\"An error occurred: {e}\")"
   ]
  },
  {
   "cell_type": "markdown",
   "metadata": {},
   "source": [
    "### Question 2"
   ]
  },
  {
   "cell_type": "markdown",
   "metadata": {},
   "source": [
    "Read in your article's html source from the file you created in question 1 and do sentiment analysis on the article/post's text (use `.get_text()`).  Print the polarity score with an appropriate label.  Additionally print the number of sentences in the original article (with an appropriate label)"
   ]
  },
  {
   "cell_type": "code",
   "execution_count": null,
   "metadata": {},
   "outputs": [
    {
     "name": "stdout",
     "output_type": "stream",
     "text": [
      "\n",
      "\n",
      "\n",
      "If you’ve asked yourself recently, \"Should I move to another country?\", you’re part of a growing group of curious people. Packing up and relocating to another country is a big decision and one that’s best considered thoughtfully. \n",
      "Before you make the leap, answer the following questions to test your readiness!\n",
      "\n",
      "\n",
      "      1. Why are you considering a move abroad?\n",
      "This may seem like an obvious question, but being honest with yourself about why you're thinking about moving overseas is the most important first step in this potential journey. If you want to relocate for a job opportunity, a degree, or simply to find a place that better matches your ideals in life, then you’re on the right track. Having a clear goal will help you know what you’re working towards.\n",
      "If moving abroad is an escape – from family, unhappiness, or life in general – you will find that your problems always have a way of catching back up with you. Leaving your home country behind may seem like a solution to forget your troubles but unfortunately, the relief you feel will only be temporary. Addressing your main issues ahead of a move will allow you to fully immerse yourself in the experience without all of the baggage.\n",
      "\n",
      "\n",
      "      2. Where do you want to go?\n",
      "Thinking about where you want to go and why will help solidify your plans. Do you want better weather? A slower pace of life? More access to outdoor activities? More affordable education?\n",
      "Or maybe you’ve already visited a country and fallen in love with it. Wherever you are in your decision-making process, balancing wants and needs with what’s legally possible in terms of visas is crucial.\n",
      "\n",
      "\n",
      "      3. Do you qualify for a visa?\n",
      "\n",
      "\n",
      "\n",
      "If you're wondering how hard it is to move to another country, visas are the elephant in the room. Many countries have immigration laws that make it difficult if not nearly impossible to just pack up and relocate. The US currently doesn’t have any special agreements of free movement with other countries so you will always need a visa if you want to move abroad permanently. \n",
      "The EU and UK are notorious for how tricky their work visa policies are. Since they prioritize hiring their own citizens, you have to be a highly skilled worker in an in-demand field to get the job. \n",
      "If you’re like many of us who aren’t in possession of rare, specialized skills, there are still other ways to qualify for visas around the world. \n",
      "Other types of visas to consider:\n",
      "\n",
      "\n",
      "\n",
      "\n",
      "Student visas: Some countries have student visa schemes that allow foreign university students to stay and work in the country after graduation. Once you get your foot in the door, your company may sponsor you for a work visa indefinitely. You may also be able to work part-time while studying at a language school if getting another degree isn’t on your radar.\n",
      "\n",
      "Working holiday visas: Countries around the world have agreements with each other allowing citizens meeting certain requirements to work and travel abroad for a set number of years. The US, for example, has working holiday partnerships with 6 countries.\n",
      "\n",
      "Visas for teaching English: If you’re already teaching English or are looking to pursue it as a career, you will have an easier time getting a visa that allows you to live and work abroad. Several countries in Asia, a top TEFL destination, have visas specifically designed for English teachers and are straightforward to obtain.\n",
      "\n",
      "Digital nomad visas: In recent years, more countries have been adopting digital nomad visas to draw in foreign workers who want to live abroad. If you are already employed in your home country and able to work remotely, you may qualify for one of the many digital nomad visas worldwide.\n",
      "\n",
      "Au pair: If you love kids and are under 30, living and working abroad as an au pair is a great option. Several countries in Europe offer au pair visas.\n",
      "\n",
      "\n",
      "While you may have heard of people living abroad on tourist visas doing “border runs” to neighboring countries every 90 days to reset their visa time limits, this isn’t a great long-term solution and is not recommended. It is generally illegal, especially if you’re working under the table, and can get you into trouble if you’re caught.\n",
      "\n",
      "\n",
      "      4. Are you willing to do on-the-ground research if you haven’t been there?\n",
      "If you want to make a long-term move, checking the country out first is usually a good idea. Staying in one place for 2-4 weeks can give you insight into the flow of the day-to-day to see if it aligns with your expectations. \n",
      "When you visit, try to avoid getting into tourist mode. Pretending you live there and doing boring, everyday stuff like grocery shopping and taking out the recycling will give you a feel for real life.\n",
      "Impulsivity can be exhilarating and dropping everything to move to a place you’ve never been to could end up being the greatest thing you’ve ever done. However, if it doesn’t end so well, you could be out some serious cash.\n",
      "Read more: I've Lived, Taught, and Studied Abroad. Here are the 5 Things I Would Have Done Differently\n",
      "\n",
      "\n",
      "      5. Do you understand the tax implications?\n",
      "We get it, taxes are a bummer. But it’s still something you need to keep in mind when taking your adulting abroad. In some countries you may be subject to double taxation, meaning you’re obligated to pay taxes to Uncle Sam as well as your overseas country of residence. Every country is different though so you’ll need to do your homework.\n",
      "We recommend getting in touch with a professional who specializes in expat finance. They’ll be able to go over your options with you to make sure you don’t run into any issues in the future.\n",
      "\n",
      "\n",
      "      6. Are you financially prepared?\n",
      "Moving abroad isn’t cheap. Aside from the travel costs (taxis, airfare, checked baggage fees), you’ll need an initial safety net for start-up costs in your new country. The first month’s rent and security deposit along with the money required for purchasing home goods, furniture, and groceries can sneak up on you quickly.\n",
      "Even if you have a job secured before you go, it’s wise to have a good bit of savings to tide you over until your first paycheck. How much you need is dependent on the local cost of living where you’re going but at least $5,000 USD is a safe starting point. The more the better, though! You’ll have enough to worry about without stressing over your bank balance.\n",
      "\n",
      "\n",
      "      7. What are your long-term goals?\n",
      "\n",
      "\n",
      "\n",
      "Making a list of your goals will help you decide if you should move abroad. Some things to make note of include:\n",
      "\n",
      "\n",
      "\n",
      "\n",
      "Career: Is life abroad compatible with your career goals? Will a lack of language proficiency hold you back? If your chosen career is something you can only do in your home country without obtaining additional education and/or licensure abroad, you may need to think about the feasibility of a move.\n",
      "\n",
      "Permanency: Is this move permanent? If you’re not sure, it may be a good idea to go into it with a shorter time frame in mind. Some people go abroad to teach for a year, realize they prefer life in their home country, and then move back with some fantastic stories to share and a renewed vision for their future.\n",
      "\n",
      "Family: Do you want to meet a partner and have kids overseas? What will that look like with your family back home? Following your dreams often requires some big compromises.\n",
      "\n",
      "Friends: Are you willing to miss out on time spent with good friends back home? While you’d think friends would be clamoring to visit you abroad, the truth is a lot of them will talk about it and really want to but never find the time. Once abroad, do you feel confident building a new group of friends from scratch? It’s tough to meet new friends as an adult, especially if you’re introverted. You’ll really need to put yourself out there to make connections.\n",
      "\n",
      "\n",
      "If your immediate goal is simply to find yourself, you might want to consider volunteering abroad or taking a gap year to explore your passions and interests before committing to something more permanent.\n",
      "\n",
      "\n",
      "      8. Are you ready for the life adjustment?\n",
      "Culture shock, language barriers, and loneliness are all inevitable experiences when living abroad. Some feelings may be more short-lived than others but the good news is, with the right mindset, they will pass. \n",
      "To help with the discomfort that can come with such a big change, remember to try out the following:\n",
      "\n",
      "\n",
      "\n",
      "\n",
      "Enroll in a language class: Learning the country’s language will help you feel less isolated and more empowered.\n",
      "\n",
      "Find community: Connecting with other immigrants, even if they’re not from your country, allows you to bond over shared experiences and hardships.\n",
      "\n",
      "Stay busy: Fight the urge to stay at home and doom-scroll if you’re feeling lonely. Sunshine, exercise, or even a cup of coffee from the corner cafe can lift your spirits exponentially.\n",
      "\n",
      "Make your house a home: Photos of family and friends, your favorite art, cozy blankets, and cute trinkets can inject a dose of serotonin into your space.\n",
      "\n",
      "Keep in touch with loved ones: Be honest about your feelings and ask for support if you need it but also remember to share the good things – there will be a lot!\n",
      "\n",
      "\n",
      "\n",
      "      9. Can you manage your expectations?\n",
      "Even if you’re a seasoned traveler, moving abroad is on another level. When you’re on vacation, you can switch off and enjoy the local culture. Things are free and easy. \n",
      "When you live abroad though, you settle into a routine much like back home. The things that seemed fun while on vacation now annoy you. You dodge slow-moving tourists on your way to do your grocery shopping and grumpily grab earplugs to block out the street noise from late night partiers below your window.\n",
      "During the seven years I lived abroad, friends and family thought my life was so glamorous. I told them my daily grind was much the same as in the US: I got up and walked the dogs, made breakfast, worked, and spent the evening reading or watching TV. I was just doing it in Spain and Ireland.\n",
      "After the initial shininess of living in a new country wears off, you’ll realize things may not have drastically changed for you. While this is by no means a bad thing, if you’re moving abroad to achieve a totally different life, you may be disappointed.\n",
      "\n",
      "\n",
      "      10. Are you open-minded enough to live in a new culture?\n",
      "\n",
      "\n",
      "\n",
      "Flexibility when living abroad is so, so crucial. The first time I lived in Spain, I made the mistake of viewing life there through a US lens instead of a Spanish one. This caused me to be bitter and angry about things I deemed rude or inconsiderate. For example, Spanish communication can come across as quite blunt to people from countries that use less direct language like in the US and UK. Over time though, I learned that things weren’t bad there, just different from what I was used to.\n",
      "You have to be able to respect the local culture and customs and go with the flow when you relocate to a new country. Bureaucracy may be slow or disorganized. Strangers may stare or smile less. It’s OK to be taken aback or frustrated by certain behaviors or norms, but you have to remember that in the end, you are a guest. Learning more about the culture and language before you leave can help prepare you for the differences you may encounter.\n",
      "\n",
      "\n",
      "      Alternatives to moving abroad\n",
      "If you’ve carefully considered all of these questions and are having some doubts about the reality of a move abroad, there are still ways to spend time overseas without totally uprooting your life.\n",
      "\n",
      "\n",
      "\n",
      "\n",
      "Gap year: Gap years aren’t just for college students! Programs are available for people of all ages and give you an opportunity to follow your passion in a structured and supportive environment.\n",
      "\n",
      "Language school study: Many countries have language schools that run programs that range in length from 1-52 weeks and some include housing. If you become proficient enough in the language, you may change your mind about living there long-term.\n",
      "\n",
      "Digital nomad: While you can move abroad as a digital nomad, you can also use it as a gateway to short stays in different countries around the world. You can keep a US homebase but travel throughout the year for weeks or months as you prefer.\n",
      "\n",
      "Volunteering: Many volunteering programs include housing and meals in the overall fee. This will give you a chance to live abroad for a period of time and even explore a new field for a potential career change.\n",
      "\n",
      "Internship: Internships abroad are a great way to live abroad for a short period of time and strengthen or learn new skills. Some internship programs allow you to participate with no prior experience or education which is great for career changers.\n",
      "\n",
      "\n",
      "\n",
      "      separator_solid\n",
      "\n",
      "\n",
      "      Will you move abroad?\n",
      "We hope this friendly reality check has allowed you to ask yourself the hard questions that will help you decide if moving to a new country is right for you. Relocating to a new country can be extremely fulfilling with the right planning and mindset. Will you take the leap?\n",
      "Read more about how to move to another country:\n",
      "\n",
      "How to Move Abroad: Live Overseas as an Expat\n",
      "Live and Work Abroad in 10 Cheap Countries for Under $1,300 a Month\n",
      "8 Best Entry-Level Jobs for Expats: Work Abroad Without Experience\n",
      "The 10 Best Countries to Teach English Abroad\n",
      "Best Countries to Au Pair Abroad: Free Housing and High Pay\n",
      "\n",
      "\n",
      "\n"
     ]
    }
   ],
   "source": [
    "# Separate text of main article only to analyze\n",
    "import pickle\n",
    "from bs4 import BeautifulSoup\n",
    "\n",
    "# Load the HTML content from the .pkl file\n",
    "try:\n",
    "    with open(\"article.pkl\", \"rb\") as file:\n",
    "        html_content = pickle.load(file)\n",
    "\n",
    "    # Parse the HTML using BeautifulSoup\n",
    "    soup = BeautifulSoup(html_content, \"html.parser\")\n",
    "\n",
    "    # Adjust the selector to match the main content's container\n",
    "    article_div = soup.find(\"div\", {\"class\": \"layoutArticle__main\"})\n",
    "    if article_div:\n",
    "        article_text = article_div.get_text()  # Extract the text from the main article container\n",
    "        print(article_text)\n",
    "    else:\n",
    "        print(\"Main article content not found.\")\n",
    "\n",
    "except Exception as e:\n",
    "    print(f\"An error occurred: {e}\")"
   ]
  },
  {
   "cell_type": "code",
   "execution_count": 6,
   "metadata": {},
   "outputs": [
    {
     "name": "stdout",
     "output_type": "stream",
     "text": [
      "Polarity Score: 0.16715371336866652\n",
      "Number of Sentences: 118\n"
     ]
    }
   ],
   "source": [
    "import pickle\n",
    "from bs4 import BeautifulSoup\n",
    "import spacy\n",
    "from spacytextblob.spacytextblob import SpacyTextBlob\n",
    "\n",
    "# Load the HTML content from the .pkl file\n",
    "try:\n",
    "    with open(\"article.pkl\", \"rb\") as file:\n",
    "        html_content = pickle.load(file)\n",
    "\n",
    "    # Parse the HTML using BeautifulSoup\n",
    "    soup = BeautifulSoup(html_content, \"html.parser\")\n",
    "\n",
    "    # Adjust the selector to match the main content's container\n",
    "    article_div = soup.find(\"div\", {\"class\": \"layoutArticle__main\"})\n",
    "    if article_div:\n",
    "        article_text = article_div.get_text(strip=True)  # Extract clean text from the main article container\n",
    "\n",
    "        # Set up spaCy with SpacyTextBlob\n",
    "        nlp = spacy.load(\"en_core_web_sm\")\n",
    "        nlp.add_pipe(\"spacytextblob\")\n",
    "\n",
    "        # Analyze the text\n",
    "        doc = nlp(article_text)\n",
    "        polarity = doc._.blob.polarity  # Get polarity score\n",
    "        num_sentences = len(list(doc.sents))  # Count sentences\n",
    "\n",
    "        # Print results\n",
    "        print(f\"Polarity Score: {polarity}\")\n",
    "        print(f\"Number of Sentences: {num_sentences}\")\n",
    "    else:\n",
    "        print(\"Main article content not found.\")\n",
    "\n",
    "except Exception as e:\n",
    "    print(f\"An error occurred: {e}\")"
   ]
  },
  {
   "cell_type": "markdown",
   "metadata": {},
   "source": [
    "### Question 3"
   ]
  },
  {
   "cell_type": "markdown",
   "metadata": {},
   "source": [
    "Load the article text into a trained `spaCy` pipeline, and determine the 5 most frequent tokens (converted to lower case).  Print the common tokens with an appropriate label.  Additionally, print the tokens their frequencies (with appropriate labels)"
   ]
  },
  {
   "cell_type": "code",
   "execution_count": 7,
   "metadata": {},
   "outputs": [
    {
     "name": "stdout",
     "output_type": "stream",
     "text": [
      "Most Frequent Tokens and Their Frequencies:\n",
      "Token: abroad, Frequency: 30\n",
      "Token: country, Frequency: 20\n",
      "Token: countries, Frequency: 15\n",
      "Token: time, Frequency: 11\n",
      "Token: want, Frequency: 10\n"
     ]
    }
   ],
   "source": [
    "import pickle\n",
    "from bs4 import BeautifulSoup\n",
    "from collections import Counter\n",
    "import spacy\n",
    "\n",
    "# Load the HTML content from the .pkl file\n",
    "try:\n",
    "    with open(\"article.pkl\", \"rb\") as file:\n",
    "        html_content = pickle.load(file)\n",
    "\n",
    "    # Parse the HTML using BeautifulSoup\n",
    "    soup = BeautifulSoup(html_content, \"html.parser\")\n",
    "\n",
    "    # Adjust the selector to match the main content's container\n",
    "    article_div = soup.find(\"div\", {\"class\": \"layoutArticle__main\"})\n",
    "    if article_div:\n",
    "        article_text = article_div.get_text(strip=True)  # Extract clean text from the main article container\n",
    "\n",
    "        # Load spaCy model\n",
    "        nlp = spacy.load(\"en_core_web_sm\")\n",
    "        doc = nlp(article_text.lower())  # Convert to lowercase for uniform tokenization\n",
    "\n",
    "        # Count token frequencies, excluding stop words and punctuation\n",
    "        token_counts = Counter(token.text for token in doc if not token.is_stop and not token.is_punct)\n",
    "\n",
    "        # Get the 5 most common tokens\n",
    "        most_common_tokens = token_counts.most_common(5)\n",
    "\n",
    "        # Print results\n",
    "        print(\"Most Frequent Tokens and Their Frequencies:\")\n",
    "        for token, freq in most_common_tokens:\n",
    "            print(f\"Token: {token}, Frequency: {freq}\")\n",
    "    else:\n",
    "        print(\"Main article content not found.\")\n",
    "\n",
    "except Exception as e:\n",
    "    print(f\"An error occurred: {e}\")"
   ]
  },
  {
   "cell_type": "markdown",
   "metadata": {},
   "source": [
    "### Question 4"
   ]
  },
  {
   "cell_type": "markdown",
   "metadata": {},
   "source": [
    "Load the article text into a trained `spaCy` pipeline, and determine the 5 most frequent lemmas (converted to lower case).  Print the common lemmas with an appropriate label.  Additionally, print the lemmas with their frequencies (with appropriate labels)."
   ]
  },
  {
   "cell_type": "code",
   "execution_count": 8,
   "metadata": {},
   "outputs": [
    {
     "name": "stdout",
     "output_type": "stream",
     "text": [
      "Most Frequent Lemmas and Their Frequencies:\n",
      "Lemma: country, Frequency: 35\n",
      "Lemma: abroad, Frequency: 30\n",
      "Lemma: live, Frequency: 19\n",
      "Lemma: visa, Frequency: 15\n",
      "Lemma: work, Frequency: 13\n"
     ]
    }
   ],
   "source": [
    "import pickle\n",
    "from bs4 import BeautifulSoup\n",
    "from collections import Counter\n",
    "import spacy\n",
    "\n",
    "# Load the HTML content from the .pkl file\n",
    "try:\n",
    "    with open(\"article.pkl\", \"rb\") as file:\n",
    "        html_content = pickle.load(file)\n",
    "\n",
    "    # Parse the HTML using BeautifulSoup\n",
    "    soup = BeautifulSoup(html_content, \"html.parser\")\n",
    "\n",
    "    # Adjust the selector to match the main content's container\n",
    "    article_div = soup.find(\"div\", {\"class\": \"layoutArticle__main\"})\n",
    "    if article_div:\n",
    "        article_text = article_div.get_text(strip=True)  # Extract clean text from the main article container\n",
    "\n",
    "        # Load spaCy model\n",
    "        nlp = spacy.load(\"en_core_web_sm\")\n",
    "        doc = nlp(article_text.lower())  # Convert to lowercase for uniform tokenization\n",
    "\n",
    "        # Count lemma frequencies, excluding stop words and punctuation\n",
    "        lemma_counts = Counter(token.lemma_ for token in doc if not token.is_stop and not token.is_punct)\n",
    "\n",
    "        # Get the 5 most common lemmas\n",
    "        most_common_lemmas = lemma_counts.most_common(5)\n",
    "\n",
    "        # Print results\n",
    "        print(\"Most Frequent Lemmas and Their Frequencies:\")\n",
    "        for lemma, freq in most_common_lemmas:\n",
    "            print(f\"Lemma: {lemma}, Frequency: {freq}\")\n",
    "    else:\n",
    "        print(\"Main article content not found.\")\n",
    "\n",
    "except Exception as e:\n",
    "    print(f\"An error occurred: {e}\")"
   ]
  },
  {
   "cell_type": "markdown",
   "metadata": {},
   "source": [
    "5. Make a list containing the scores (using tokens) of every sentence in the article, and plot a histogram with appropriate titles and axis labels of the scores. From your histogram, what seems to be the most common range of scores (put the answer in a comment after your code)?"
   ]
  },
  {
   "cell_type": "code",
   "execution_count": null,
   "metadata": {},
   "outputs": [],
   "source": []
  },
  {
   "cell_type": "markdown",
   "metadata": {},
   "source": [
    "6. Make a list containing the scores (using lemmas) of every sentence in the article, and plot a histogram with appropriate titles and axis labels of the scores.  From your histogram, what seems to be the most common range of scores (put the answer in a comment after your code)?"
   ]
  },
  {
   "cell_type": "code",
   "execution_count": null,
   "metadata": {},
   "outputs": [],
   "source": []
  },
  {
   "cell_type": "markdown",
   "metadata": {},
   "source": [
    "7. Using the histograms from questions 5 and 6, decide a \"cutoff\" score for tokens and lemmas such that fewer than half the sentences would have a score greater than the cutoff score.  Record the scores in this Markdown cell\n",
    "\n",
    "* Cutoff Score (tokens): \n",
    "* Cutoff Score (lemmas):\n",
    "\n",
    "Feel free to change these scores as you generate your summaries.  Ideally, we're shooting for at least 6 sentences for our summary, but don't want more than 10 (these numbers are rough estimates; they depend on the length of your article)."
   ]
  },
  {
   "cell_type": "markdown",
   "metadata": {},
   "source": [
    "8. Create a summary of the article by going through every sentence in the article and adding it to an (initially) empty list if its score (based on tokens) is greater than the cutoff score you identified in question 8.  If your loop variable is named `sent`, you may find it easier to add `sent.text.strip()` to your list of sentences.  Print the summary (I would cleanly generate the summary text by `join`ing the strings in your list together with a space (`' '.join(sentence_list)`)."
   ]
  },
  {
   "cell_type": "code",
   "execution_count": null,
   "metadata": {},
   "outputs": [],
   "source": []
  },
  {
   "cell_type": "markdown",
   "metadata": {},
   "source": [
    "9. Print the polarity score of your summary you generated with the token scores (with an appropriate label). Additionally, print the number of sentences in the summarized article."
   ]
  },
  {
   "cell_type": "code",
   "execution_count": null,
   "metadata": {},
   "outputs": [],
   "source": []
  },
  {
   "cell_type": "markdown",
   "metadata": {},
   "source": [
    "10. Create a summary of the article by going through every sentence in the article and adding it to an (initially) empty list if its score (based on lemmas) is greater than the cutoff score you identified in question 8.  If your loop variable is named `sent`, you may find it easier to add `sent.text.strip()` to your list of sentences.  Print the summary (I would cleanly generate the summary text by `join`ing the strings in your list together with a space (`' '.join(sentence_list)`)."
   ]
  },
  {
   "cell_type": "code",
   "execution_count": null,
   "metadata": {},
   "outputs": [],
   "source": []
  },
  {
   "cell_type": "markdown",
   "metadata": {},
   "source": [
    "11. Print the polarity score of your summary you generated with the lemma scores (with an appropriate label). Additionally, print the number of sentences in the summarized article."
   ]
  },
  {
   "cell_type": "code",
   "execution_count": null,
   "metadata": {},
   "outputs": [],
   "source": []
  },
  {
   "cell_type": "markdown",
   "metadata": {},
   "source": [
    "12.  Compare your polarity scores of your summaries to the polarity scores of the initial article.  Is there a difference?  Why do you think that may or may not be?.  Answer in this Markdown cell.  "
   ]
  },
  {
   "cell_type": "markdown",
   "metadata": {},
   "source": [
    "13. Based on your reading of the original article, which summary do you think is better (if there's a difference).  Why do you think this might be?"
   ]
  }
 ],
 "metadata": {
  "kernelspec": {
   "display_name": ".venv",
   "language": "python",
   "name": "python3"
  },
  "language_info": {
   "codemirror_mode": {
    "name": "ipython",
    "version": 3
   },
   "file_extension": ".py",
   "mimetype": "text/x-python",
   "name": "python",
   "nbconvert_exporter": "python",
   "pygments_lexer": "ipython3",
   "version": "3.12.4"
  }
 },
 "nbformat": 4,
 "nbformat_minor": 4
}
